{
 "cells": [
  {
   "cell_type": "code",
   "execution_count": 1,
   "id": "aa50cb55-0559-4bf2-98ac-16abc401655d",
   "metadata": {
    "tags": []
   },
   "outputs": [],
   "source": [
    "import pandas as pd\n",
    "import numpy as np\n",
    "import tqdm\n",
    "\n",
    "from sklearn.ensemble import RandomForestClassifier\n",
    "from sklearn.preprocessing import LabelEncoder, KBinsDiscretizer\n",
    "from sklearn.model_selection import train_test_split\n",
    "\n",
    "from sklearn.metrics import accuracy_score, confusion_matrix, roc_auc_score, f1_score, matthews_corrcoef, roc_curve\n",
    "\n",
    "from scipy.stats import ttest_ind\n",
    "\n",
    "import seaborn as sns\n",
    "import matplotlib.pyplot as plt\n",
    "from scipy.stats import gmean\n",
    "from xgboost import XGBClassifier\n",
    "import imblearn"
   ]
  },
  {
   "cell_type": "code",
   "execution_count": 2,
   "id": "c7a07c20-d25b-4eb2-8460-af0abef13fef",
   "metadata": {},
   "outputs": [],
   "source": [
    "from assembling_the_data import map_id_to_run, read_from_biom"
   ]
  },
  {
   "cell_type": "code",
   "execution_count": 3,
   "id": "0829ad8a-aa96-45b4-939a-3df70103eec2",
   "metadata": {},
   "outputs": [],
   "source": [
    "import warnings\n",
    "warnings.filterwarnings(\"ignore\")"
   ]
  },
  {
   "cell_type": "markdown",
   "id": "6d45b6e5-8901-4b5b-b9d9-bd3e74a9ef21",
   "metadata": {},
   "source": [
    "## Read sample data"
   ]
  },
  {
   "cell_type": "code",
   "execution_count": 4,
   "id": "b1df7fc5-6aba-46aa-a322-326824518c63",
   "metadata": {},
   "outputs": [],
   "source": [
    "pivoted = pd.read_csv(\"data/full_data_new.csv\")"
   ]
  },
  {
   "cell_type": "markdown",
   "id": "17b7857e-daa7-4b06-80a8-e4051e042236",
   "metadata": {},
   "source": [
    "## Prepare datasets for training"
   ]
  },
  {
   "cell_type": "code",
   "execution_count": 6,
   "id": "01fabf40-b342-44ce-8344-c5f2e23e8aa3",
   "metadata": {},
   "outputs": [],
   "source": [
    "pivoted = pivoted.dropna(subset=[\"icu\"])"
   ]
  },
  {
   "cell_type": "code",
   "execution_count": 5,
   "id": "fd1c1bbb-347d-4661-8dd1-8c4fbc06f23e",
   "metadata": {},
   "outputs": [],
   "source": [
    "np.random.seed(42)"
   ]
  },
  {
   "cell_type": "code",
   "execution_count": 7,
   "id": "61879c32-542c-41d3-93b7-09eb975a719b",
   "metadata": {},
   "outputs": [],
   "source": [
    "train_patients, test_patients = train_test_split(pivoted['patient_id'].unique())\n",
    "train_idx = np.where(pivoted['patient_id'].isin(train_patients))[0]\n",
    "test_idx = np.where(pivoted['patient_id'].isin(test_patients))[0]"
   ]
  },
  {
   "cell_type": "code",
   "execution_count": 8,
   "id": "89b7fda2-e641-4be2-af77-1a1d8f87f27f",
   "metadata": {
    "tags": []
   },
   "outputs": [],
   "source": [
    "def get_random_split(column=\"icu\", train_patients=None, test_patients=None):\n",
    "    if test_patients is None:\n",
    "        train_patients, test_patients = train_test_split(pivoted['patient_id'].unique())\n",
    "    train_idx = np.where(pivoted['patient_id'].isin(train_patients))[0]\n",
    "    test_idx = np.where(pivoted['patient_id'].isin(test_patients))[0]\n",
    "    \n",
    "    X = pivoted.values[:, 4:-21].astype(float)+1\n",
    "    for i in range(len(X)):\n",
    "        X[i] = np.log(X[i]/gmean(X[i]))\n",
    "    y = pivoted.loc[:, column].values\n",
    "    resampler = imblearn.over_sampling.SMOTE()\n",
    "\n",
    "    X_train = X[train_idx]\n",
    "    y_train = y[train_idx]\n",
    "    \n",
    "    X_train, y_train = resampler.fit_resample(X_train, y_train)\n",
    "    \n",
    "    X_test = X[test_idx]\n",
    "    y_test = y[test_idx]\n",
    "    return X_train, y_train, X_test, y_test"
   ]
  },
  {
   "cell_type": "markdown",
   "id": "b6fa8c1d-74c8-42a4-ba60-1d373f75afb7",
   "metadata": {},
   "source": [
    "## Optimize XGBoost"
   ]
  },
  {
   "cell_type": "code",
   "execution_count": 44,
   "id": "ef8c98b1-4f37-4735-a255-4652818e87a2",
   "metadata": {},
   "outputs": [],
   "source": [
    "def test_rf_accuracy(X_train, y_train, X_test, y_test, model=lambda: get_model()):\n",
    "    model_ = model()\n",
    "    model_.fit(X_train, y_train)\n",
    "    y_pred = model_.predict(X_test)\n",
    "    return f1_score(y_test, y_pred)\n",
    "\n",
    "def test_rf_auc(X_train, y_train, X_test, y_test, model=lambda: get_model()):\n",
    "    model_ = model()\n",
    "    model_.fit(X_train, y_train)\n",
    "    y_pred_proba = model_.predict_proba(X_test)\n",
    "    return roc_auc_score(y_test, y_pred_proba[:, 1])    \n",
    "\n",
    "def test_rf_matrix(X_train, y_train, X_test, y_test, model):\n",
    "    model_ = model()\n",
    "    model_.fit(X_train, y_train)\n",
    "    y_pred = model_.predict(X_test)\n",
    "    return confusion_matrix(y_test, y_pred)    "
   ]
  },
  {
   "cell_type": "code",
   "execution_count": 18,
   "id": "0c4d4228-a336-45ca-9140-89dce30b6ad0",
   "metadata": {},
   "outputs": [],
   "source": [
    "def get_rf(**params):\n",
    "    random_seed = np.random.randint(1024)\n",
    "    def _inner():\n",
    "        return RandomForestClassifier(\n",
    "            random_state=random_seed,\n",
    "            **params\n",
    "        )\n",
    "    return _inner"
   ]
  },
  {
   "cell_type": "code",
   "execution_count": 31,
   "id": "a9a13998-31cc-42b8-9c46-c6bec8218ba7",
   "metadata": {},
   "outputs": [],
   "source": [
    "def pyhopper_best_params(model_fn, param_grid, time=\"30m\", default_params={}, data=\"\"):\n",
    "    def objective(params):\n",
    "        model = model_fn(**default_params,**params)\n",
    "        res = []\n",
    "        for i in range(5):\n",
    "            try:\n",
    "                model_results = test_rf_auc(*get_random_split(), model)\n",
    "                res.append(model_results)\n",
    "            except ValueError:\n",
    "                print(\"Err\")\n",
    "        model_results = np.mean(res)\n",
    "        \n",
    "        with open(f\"params/params.txt\", \"a\") as f:\n",
    "            f.write(str(params) + \", \" + str(model_results) + \"\\n\")\n",
    "        return model_results\n",
    "\n",
    "    from pyhopper.callbacks import History\n",
    "    search = pyhopper.Search(param_grid)\n",
    "\n",
    "    best_params = search.run(objective, \"maximize\", time, n_jobs=1, seeding_ratio=0.5, quiet=False)\n",
    "    \n",
    "    with open(f\"params/{data}_{model_fn.__name__}_best_params.txt\", \"a\") as f:\n",
    "            f.write(str(best_params))\n",
    "    \n",
    "    return best_params\n"
   ]
  },
  {
   "cell_type": "code",
   "execution_count": 32,
   "id": "ca900d5e-b945-4160-b8cb-b7f292608156",
   "metadata": {},
   "outputs": [
    {
     "data": {
      "application/vnd.jupyter.widget-view+json": {
       "model_id": "f6c845f4d08e4cc48d24a92d7f692aee",
       "version_major": 2,
       "version_minor": 0
      },
      "text/plain": [
       "  0%|          | [00:00<?]"
      ]
     },
     "metadata": {},
     "output_type": "display_data"
    },
    {
     "name": "stdout",
     "output_type": "stream",
     "text": [
      "Search is scheduled for 01:00:00 (h:m:s)\n",
      "====================== Summary ======================\n",
      "Mode              : Best f : Steps : Time            \n",
      "----------------  : ----   : ----  : ----            \n",
      "Initial solution  : 0.656  : 1     : 01:15 (m:s)     \n",
      "Random seeding    : 0.7083 : 15    : 30:22 (m:s)     \n",
      "Local sampling    : 0.6896 : 12    : 28:34 (m:s)     \n",
      "Duplicates        : -      : 8     : -               \n",
      "----------------  : ----   : ----  : ----            \n",
      "Total             : 0.7083 : 36    : 01:00:11 (h:m:s)\n",
      "=====================================================\n"
     ]
    }
   ],
   "source": [
    "import pyhopper\n",
    "\n",
    "param_grid = {\n",
    "    'n_estimators': pyhopper.int(50, 300, multiple_of=50, init=50),\n",
    "    'max_features': pyhopper.choice([None, 'sqrt', 0.2, 0.3, 0.5, 0.7]),\n",
    "    'criterion' : pyhopper.choice(['gini', 'entropy']),\n",
    "    'max_depth': pyhopper.choice([None, 2, 4, 8, 16]),\n",
    "}\n",
    "\n",
    "best = pyhopper_best_params(get_rf, param_grid, time=\"1h\")  "
   ]
  },
  {
   "cell_type": "code",
   "execution_count": 33,
   "id": "c41ac544-035a-4cbb-98fb-0463033b2b87",
   "metadata": {},
   "outputs": [
    {
     "data": {
      "text/plain": [
       "{'n_estimators': 200,\n",
       " 'max_features': None,\n",
       " 'criterion': 'gini',\n",
       " 'max_depth': 2}"
      ]
     },
     "execution_count": 33,
     "metadata": {},
     "output_type": "execute_result"
    }
   ],
   "source": [
    "best"
   ]
  },
  {
   "cell_type": "markdown",
   "id": "7d6dbd36-249f-4028-ad75-2c59ee50de62",
   "metadata": {},
   "source": [
    "## Show RF statistics"
   ]
  },
  {
   "cell_type": "code",
   "execution_count": 34,
   "id": "c53b33d7-cd1b-473d-9c93-ec6174f89686",
   "metadata": {
    "tags": []
   },
   "outputs": [
    {
     "name": "stderr",
     "output_type": "stream",
     "text": [
      "100%|█████████████████████████████████████████████████████████████████████████████████| 100/100 [43:43<00:00, 26.23s/it]\n"
     ]
    }
   ],
   "source": [
    "f1_scores = []\n",
    "for i in tqdm.trange(100):\n",
    "    X_train, y_train, X_test, y_test = get_random_split()\n",
    "    res = test_rf_accuracy(X_train, y_train, X_test, y_test, get_rf(n_estimators=200, max_features=None, criterion='gini', max_depth=2))\n",
    "    f1_scores.append(res)"
   ]
  },
  {
   "cell_type": "code",
   "execution_count": 40,
   "id": "8fdda931-b367-476f-9c0a-448d3530630e",
   "metadata": {},
   "outputs": [
    {
     "name": "stderr",
     "output_type": "stream",
     "text": [
      "100%|█████████████████████████████████████████████████████████████████████████████████| 100/100 [43:27<00:00, 26.08s/it]\n"
     ]
    }
   ],
   "source": [
    "roc_auc = []\n",
    "for i in tqdm.trange(100):\n",
    "    try:\n",
    "        X_train, y_train, X_test, y_test = get_random_split()\n",
    "        res = test_rf_auc(X_train, y_train, X_test, y_test, get_rf(n_estimators=200, max_features=None, criterion='gini', max_depth=2))\n",
    "    except ValueError:\n",
    "        pass\n",
    "    roc_auc.append(res)"
   ]
  },
  {
   "cell_type": "code",
   "execution_count": 46,
   "id": "862ce0cf-ffb1-4483-ac85-69e2bda52415",
   "metadata": {},
   "outputs": [
    {
     "name": "stderr",
     "output_type": "stream",
     "text": [
      "100%|█████████████████████████████████████████████████████████████████████████████████| 100/100 [43:48<00:00, 26.29s/it]\n"
     ]
    }
   ],
   "source": [
    "matrix = test_rf_matrix(X_train, y_train, X_test, y_test, model=get_rf(n_estimators=200, max_features=None, criterion='gini', max_depth=2))\n",
    "for i in tqdm.trange(100):\n",
    "    X_train, y_train, X_test, y_test = get_random_split()\n",
    "    matrix += test_rf_matrix(X_train, y_train, X_test, y_test, model=get_rf(n_estimators=200, max_features=None, criterion='gini', max_depth=2))\n",
    "\n",
    "matrix = matrix/101"
   ]
  },
  {
   "cell_type": "code",
   "execution_count": 47,
   "id": "e2f2510a-1573-4b3e-89b8-4f1f5a5b707b",
   "metadata": {},
   "outputs": [
    {
     "data": {
      "image/png": "[encoded data removed]",
      "text/plain": [
       "<Figure size 432x288 with 1 Axes>"
      ]
     },
     "metadata": {
      "needs_background": "light"
     },
     "output_type": "display_data"
    },
    {
     "data": {
      "image/png": "[encoded data removed]",
      "text/plain": [
       "<Figure size 432x288 with 1 Axes>"
      ]
     },
     "metadata": {
      "needs_background": "light"
     },
     "output_type": "display_data"
    },
    {
     "data": {
      "image/png": "[encoded data removed]",
      "text/plain": [
       "<Figure size 432x288 with 2 Axes>"
      ]
     },
     "metadata": {
      "needs_background": "light"
     },
     "output_type": "display_data"
    }
   ],
   "source": [
    "sns.violinplot(f1_scores)\n",
    "plt.title(\"F1 scores of RF predictors\")\n",
    "plt.xlim([0, 1]);\n",
    "plt.show()\n",
    "\n",
    "sns.violinplot(roc_auc)\n",
    "plt.title(\"AUC scores of RF predictors\")\n",
    "plt.xlim([0, 1]);\n",
    "plt.show()\n",
    "\n",
    "sns.heatmap(matrix, annot=True);\n",
    "plt.title(\"Confusion matrix\");\n",
    "plt.show()"
   ]
  },
  {
   "cell_type": "markdown",
   "id": "bf61ea4c-9b87-43a1-88f6-70261b2aaac4",
   "metadata": {},
   "source": [
    "## Check significance of the results"
   ]
  },
  {
   "cell_type": "code",
   "execution_count": 52,
   "id": "fc11ab8b-2a1d-4694-a12a-048d4972531b",
   "metadata": {},
   "outputs": [],
   "source": [
    "def check_significance(model, get_metric, n_iters=100, column=\"icu\"):\n",
    "    shuffled = []\n",
    "    proper = []\n",
    "    for i in tqdm.trange(n_iters):\n",
    "        try:\n",
    "            X_train, y_train, X_test, y_test = get_random_split(column=column)\n",
    "            res = get_metric(X_train, y_train, X_test, y_test, model)\n",
    "            proper.append(res)\n",
    "\n",
    "            np.random.shuffle(y_train)\n",
    "            res = get_metric(X_train, y_train, X_test, y_test, model)\n",
    "            shuffled.append(res)  \n",
    "        except ValueError:\n",
    "            pass\n",
    "        \n",
    "    significance = ttest_ind(proper, shuffled)\n",
    "    if significance[1]<0.05:\n",
    "        print(f\"{np.mean(proper):.3f} mean (+{np.mean(proper)-np.mean(shuffled):.3f}), significant\")\n",
    "    else:\n",
    "        print(\"Unsignificant\")\n",
    "    return proper, shuffled, significance[1]"
   ]
  },
  {
   "cell_type": "code",
   "execution_count": 53,
   "id": "c97dad0d-c945-4e64-9c4b-9f29af1bb9dc",
   "metadata": {
    "tags": []
   },
   "outputs": [
    {
     "data": {
      "text/plain": [
       "Index(['fname', 'run_y', 'ALT', 'AST', 'Białko ostrej fazy - CRP', 'D-dimer',\n",
       "       'Ferrytyna', 'Interleukina 6', 'LDH (L)', 'height', 'weight', 'bmi',\n",
       "       'obesity_calculated', 'sex', 'age', 'admission_date', 'final_date',\n",
       "       'death', 'covid_test_date', 'icu'],\n",
       "      dtype='object')"
      ]
     },
     "execution_count": 53,
     "metadata": {},
     "output_type": "execute_result"
    }
   ],
   "source": [
    "# print(\"F1:\")\n",
    "# proper_acc, shuffled_acc, acc_pval = check_significance(lambda: ThresholdOptimPredictor(), get_metric=test_rf_accuracy)\n",
    "pivoted.columns[-20:]"
   ]
  },
  {
   "cell_type": "markdown",
   "id": "d2ee8d84-b019-46f5-89c2-ec44cbffedb5",
   "metadata": {},
   "source": [
    "## Draw conclusions"
   ]
  },
  {
   "cell_type": "code",
   "execution_count": 55,
   "id": "99b2e3b8-86dd-48dd-95ef-521af684fb71",
   "metadata": {
    "collapsed": true,
    "jupyter": {
     "outputs_hidden": true
    },
    "tags": []
   },
   "outputs": [
    {
     "name": "stderr",
     "output_type": "stream",
     "text": [
      "  0%|                                                                                           | 0/100 [00:03<?, ?it/s]\n"
     ]
    },
    {
     "ename": "KeyboardInterrupt",
     "evalue": "",
     "output_type": "error",
     "traceback": [
      "\u001b[0;31m---------------------------------------------------------------------------\u001b[0m",
      "\u001b[0;31mKeyboardInterrupt\u001b[0m                         Traceback (most recent call last)",
      "\u001b[0;32m/tmp/ipykernel_1000288/4070652019.py\u001b[0m in \u001b[0;36m<module>\u001b[0;34m\u001b[0m\n\u001b[1;32m      1\u001b[0m \u001b[0mcolumn\u001b[0m \u001b[0;34m=\u001b[0m \u001b[0;34m\"icu\"\u001b[0m\u001b[0;34m\u001b[0m\u001b[0;34m\u001b[0m\u001b[0m\n\u001b[0;32m----> 2\u001b[0;31m \u001b[0mproper_res\u001b[0m\u001b[0;34m,\u001b[0m \u001b[0mshuffled_res\u001b[0m\u001b[0;34m,\u001b[0m \u001b[0mpval_res\u001b[0m \u001b[0;34m=\u001b[0m \u001b[0mcheck_significance\u001b[0m\u001b[0;34m(\u001b[0m\u001b[0mget_rf\u001b[0m\u001b[0;34m(\u001b[0m\u001b[0mn_estimators\u001b[0m\u001b[0;34m=\u001b[0m\u001b[0;36m30\u001b[0m\u001b[0;34m,\u001b[0m \u001b[0mmax_features\u001b[0m\u001b[0;34m=\u001b[0m\u001b[0;32mNone\u001b[0m\u001b[0;34m,\u001b[0m \u001b[0mcriterion\u001b[0m\u001b[0;34m=\u001b[0m\u001b[0;34m'gini'\u001b[0m\u001b[0;34m,\u001b[0m \u001b[0mmax_depth\u001b[0m\u001b[0;34m=\u001b[0m\u001b[0;36m2\u001b[0m\u001b[0;34m)\u001b[0m\u001b[0;34m,\u001b[0m \u001b[0mget_metric\u001b[0m\u001b[0;34m=\u001b[0m\u001b[0mtest_rf_auc\u001b[0m\u001b[0;34m,\u001b[0m \u001b[0mcolumn\u001b[0m\u001b[0;34m=\u001b[0m\u001b[0mcolumn\u001b[0m\u001b[0;34m)\u001b[0m\u001b[0;34m\u001b[0m\u001b[0;34m\u001b[0m\u001b[0m\n\u001b[0m\u001b[1;32m      3\u001b[0m \u001b[0msamples\u001b[0m \u001b[0;34m=\u001b[0m \u001b[0mlen\u001b[0m\u001b[0;34m(\u001b[0m\u001b[0mpivoted\u001b[0m\u001b[0;34m.\u001b[0m\u001b[0mloc\u001b[0m\u001b[0;34m[\u001b[0m\u001b[0;34m:\u001b[0m\u001b[0;34m,\u001b[0m \u001b[0mcolumn\u001b[0m\u001b[0;34m]\u001b[0m\u001b[0;34m.\u001b[0m\u001b[0mdropna\u001b[0m\u001b[0;34m(\u001b[0m\u001b[0;34m)\u001b[0m\u001b[0;34m.\u001b[0m\u001b[0mvalues\u001b[0m\u001b[0;34m)\u001b[0m\u001b[0;34m\u001b[0m\u001b[0;34m\u001b[0m\u001b[0m\n\u001b[1;32m      4\u001b[0m \u001b[0mp_val\u001b[0m \u001b[0;34m=\u001b[0m \u001b[0mround\u001b[0m\u001b[0;34m(\u001b[0m\u001b[0mpval_res\u001b[0m\u001b[0;34m,\u001b[0m \u001b[0;36m4\u001b[0m\u001b[0;34m)\u001b[0m\u001b[0;34m\u001b[0m\u001b[0;34m\u001b[0m\u001b[0m\n\u001b[1;32m      5\u001b[0m \u001b[0;32mif\u001b[0m \u001b[0mp_val\u001b[0m\u001b[0;34m<\u001b[0m\u001b[0;36m0.05\u001b[0m\u001b[0;34m:\u001b[0m\u001b[0;34m\u001b[0m\u001b[0;34m\u001b[0m\u001b[0m\n",
      "\u001b[0;32m/tmp/ipykernel_1000288/74592438.py\u001b[0m in \u001b[0;36mcheck_significance\u001b[0;34m(model, get_metric, n_iters, column)\u001b[0m\n\u001b[1;32m      5\u001b[0m         \u001b[0;32mtry\u001b[0m\u001b[0;34m:\u001b[0m\u001b[0;34m\u001b[0m\u001b[0;34m\u001b[0m\u001b[0m\n\u001b[1;32m      6\u001b[0m             \u001b[0mX_train\u001b[0m\u001b[0;34m,\u001b[0m \u001b[0my_train\u001b[0m\u001b[0;34m,\u001b[0m \u001b[0mX_test\u001b[0m\u001b[0;34m,\u001b[0m \u001b[0my_test\u001b[0m \u001b[0;34m=\u001b[0m \u001b[0mget_random_split\u001b[0m\u001b[0;34m(\u001b[0m\u001b[0mcolumn\u001b[0m\u001b[0;34m=\u001b[0m\u001b[0mcolumn\u001b[0m\u001b[0;34m)\u001b[0m\u001b[0;34m\u001b[0m\u001b[0;34m\u001b[0m\u001b[0m\n\u001b[0;32m----> 7\u001b[0;31m             \u001b[0mres\u001b[0m \u001b[0;34m=\u001b[0m \u001b[0mget_metric\u001b[0m\u001b[0;34m(\u001b[0m\u001b[0mX_train\u001b[0m\u001b[0;34m,\u001b[0m \u001b[0my_train\u001b[0m\u001b[0;34m,\u001b[0m \u001b[0mX_test\u001b[0m\u001b[0;34m,\u001b[0m \u001b[0my_test\u001b[0m\u001b[0;34m,\u001b[0m \u001b[0mmodel\u001b[0m\u001b[0;34m)\u001b[0m\u001b[0;34m\u001b[0m\u001b[0;34m\u001b[0m\u001b[0m\n\u001b[0m\u001b[1;32m      8\u001b[0m             \u001b[0mproper\u001b[0m\u001b[0;34m.\u001b[0m\u001b[0mappend\u001b[0m\u001b[0;34m(\u001b[0m\u001b[0mres\u001b[0m\u001b[0;34m)\u001b[0m\u001b[0;34m\u001b[0m\u001b[0;34m\u001b[0m\u001b[0m\n\u001b[1;32m      9\u001b[0m \u001b[0;34m\u001b[0m\u001b[0m\n",
      "\u001b[0;32m/tmp/ipykernel_1000288/915351391.py\u001b[0m in \u001b[0;36mtest_rf_auc\u001b[0;34m(X_train, y_train, X_test, y_test, model)\u001b[0m\n\u001b[1;32m      7\u001b[0m \u001b[0;32mdef\u001b[0m \u001b[0mtest_rf_auc\u001b[0m\u001b[0;34m(\u001b[0m\u001b[0mX_train\u001b[0m\u001b[0;34m,\u001b[0m \u001b[0my_train\u001b[0m\u001b[0;34m,\u001b[0m \u001b[0mX_test\u001b[0m\u001b[0;34m,\u001b[0m \u001b[0my_test\u001b[0m\u001b[0;34m,\u001b[0m \u001b[0mmodel\u001b[0m\u001b[0;34m=\u001b[0m\u001b[0;32mlambda\u001b[0m\u001b[0;34m:\u001b[0m \u001b[0mget_model\u001b[0m\u001b[0;34m(\u001b[0m\u001b[0;34m)\u001b[0m\u001b[0;34m)\u001b[0m\u001b[0;34m:\u001b[0m\u001b[0;34m\u001b[0m\u001b[0;34m\u001b[0m\u001b[0m\n\u001b[1;32m      8\u001b[0m     \u001b[0mmodel_\u001b[0m \u001b[0;34m=\u001b[0m \u001b[0mmodel\u001b[0m\u001b[0;34m(\u001b[0m\u001b[0;34m)\u001b[0m\u001b[0;34m\u001b[0m\u001b[0;34m\u001b[0m\u001b[0m\n\u001b[0;32m----> 9\u001b[0;31m     \u001b[0mmodel_\u001b[0m\u001b[0;34m.\u001b[0m\u001b[0mfit\u001b[0m\u001b[0;34m(\u001b[0m\u001b[0mX_train\u001b[0m\u001b[0;34m,\u001b[0m \u001b[0my_train\u001b[0m\u001b[0;34m)\u001b[0m\u001b[0;34m\u001b[0m\u001b[0;34m\u001b[0m\u001b[0m\n\u001b[0m\u001b[1;32m     10\u001b[0m     \u001b[0my_pred_proba\u001b[0m \u001b[0;34m=\u001b[0m \u001b[0mmodel_\u001b[0m\u001b[0;34m.\u001b[0m\u001b[0mpredict_proba\u001b[0m\u001b[0;34m(\u001b[0m\u001b[0mX_test\u001b[0m\u001b[0;34m)\u001b[0m\u001b[0;34m\u001b[0m\u001b[0;34m\u001b[0m\u001b[0m\n\u001b[1;32m     11\u001b[0m     \u001b[0;32mreturn\u001b[0m \u001b[0mroc_auc_score\u001b[0m\u001b[0;34m(\u001b[0m\u001b[0my_test\u001b[0m\u001b[0;34m,\u001b[0m \u001b[0my_pred_proba\u001b[0m\u001b[0;34m[\u001b[0m\u001b[0;34m:\u001b[0m\u001b[0;34m,\u001b[0m \u001b[0;36m1\u001b[0m\u001b[0;34m]\u001b[0m\u001b[0;34m)\u001b[0m\u001b[0;34m\u001b[0m\u001b[0;34m\u001b[0m\u001b[0m\n",
      "\u001b[0;32m/var/opt/miniconda3/envs/ncbr-covid/lib/python3.8/site-packages/sklearn/ensemble/_forest.py\u001b[0m in \u001b[0;36mfit\u001b[0;34m(self, X, y, sample_weight)\u001b[0m\n\u001b[1;32m    471\u001b[0m             \u001b[0;31m# parallel_backend contexts set at a higher level,\u001b[0m\u001b[0;34m\u001b[0m\u001b[0;34m\u001b[0m\u001b[0;34m\u001b[0m\u001b[0m\n\u001b[1;32m    472\u001b[0m             \u001b[0;31m# since correctness does not rely on using threads.\u001b[0m\u001b[0;34m\u001b[0m\u001b[0;34m\u001b[0m\u001b[0;34m\u001b[0m\u001b[0m\n\u001b[0;32m--> 473\u001b[0;31m             trees = Parallel(\n\u001b[0m\u001b[1;32m    474\u001b[0m                 \u001b[0mn_jobs\u001b[0m\u001b[0;34m=\u001b[0m\u001b[0mself\u001b[0m\u001b[0;34m.\u001b[0m\u001b[0mn_jobs\u001b[0m\u001b[0;34m,\u001b[0m\u001b[0;34m\u001b[0m\u001b[0;34m\u001b[0m\u001b[0m\n\u001b[1;32m    475\u001b[0m                 \u001b[0mverbose\u001b[0m\u001b[0;34m=\u001b[0m\u001b[0mself\u001b[0m\u001b[0;34m.\u001b[0m\u001b[0mverbose\u001b[0m\u001b[0;34m,\u001b[0m\u001b[0;34m\u001b[0m\u001b[0;34m\u001b[0m\u001b[0m\n",
      "\u001b[0;32m/var/opt/miniconda3/envs/ncbr-covid/lib/python3.8/site-packages/sklearn/utils/parallel.py\u001b[0m in \u001b[0;36m__call__\u001b[0;34m(self, iterable)\u001b[0m\n\u001b[1;32m     61\u001b[0m             \u001b[0;32mfor\u001b[0m \u001b[0mdelayed_func\u001b[0m\u001b[0;34m,\u001b[0m \u001b[0margs\u001b[0m\u001b[0;34m,\u001b[0m \u001b[0mkwargs\u001b[0m \u001b[0;32min\u001b[0m \u001b[0miterable\u001b[0m\u001b[0;34m\u001b[0m\u001b[0;34m\u001b[0m\u001b[0m\n\u001b[1;32m     62\u001b[0m         )\n\u001b[0;32m---> 63\u001b[0;31m         \u001b[0;32mreturn\u001b[0m \u001b[0msuper\u001b[0m\u001b[0;34m(\u001b[0m\u001b[0;34m)\u001b[0m\u001b[0;34m.\u001b[0m\u001b[0m__call__\u001b[0m\u001b[0;34m(\u001b[0m\u001b[0miterable_with_config\u001b[0m\u001b[0;34m)\u001b[0m\u001b[0;34m\u001b[0m\u001b[0;34m\u001b[0m\u001b[0m\n\u001b[0m\u001b[1;32m     64\u001b[0m \u001b[0;34m\u001b[0m\u001b[0m\n\u001b[1;32m     65\u001b[0m \u001b[0;34m\u001b[0m\u001b[0m\n",
      "\u001b[0;32m/var/opt/miniconda3/envs/ncbr-covid/lib/python3.8/site-packages/joblib/parallel.py\u001b[0m in \u001b[0;36m__call__\u001b[0;34m(self, iterable)\u001b[0m\n\u001b[1;32m   1086\u001b[0m                 \u001b[0mself\u001b[0m\u001b[0;34m.\u001b[0m\u001b[0m_iterating\u001b[0m \u001b[0;34m=\u001b[0m \u001b[0mself\u001b[0m\u001b[0;34m.\u001b[0m\u001b[0m_original_iterator\u001b[0m \u001b[0;32mis\u001b[0m \u001b[0;32mnot\u001b[0m \u001b[0;32mNone\u001b[0m\u001b[0;34m\u001b[0m\u001b[0;34m\u001b[0m\u001b[0m\n\u001b[1;32m   1087\u001b[0m \u001b[0;34m\u001b[0m\u001b[0m\n\u001b[0;32m-> 1088\u001b[0;31m             \u001b[0;32mwhile\u001b[0m \u001b[0mself\u001b[0m\u001b[0;34m.\u001b[0m\u001b[0mdispatch_one_batch\u001b[0m\u001b[0;34m(\u001b[0m\u001b[0miterator\u001b[0m\u001b[0;34m)\u001b[0m\u001b[0;34m:\u001b[0m\u001b[0;34m\u001b[0m\u001b[0;34m\u001b[0m\u001b[0m\n\u001b[0m\u001b[1;32m   1089\u001b[0m                 \u001b[0;32mpass\u001b[0m\u001b[0;34m\u001b[0m\u001b[0;34m\u001b[0m\u001b[0m\n\u001b[1;32m   1090\u001b[0m \u001b[0;34m\u001b[0m\u001b[0m\n",
      "\u001b[0;32m/var/opt/miniconda3/envs/ncbr-covid/lib/python3.8/site-packages/joblib/parallel.py\u001b[0m in \u001b[0;36mdispatch_one_batch\u001b[0;34m(self, iterator)\u001b[0m\n\u001b[1;32m    899\u001b[0m                 \u001b[0;32mreturn\u001b[0m \u001b[0;32mFalse\u001b[0m\u001b[0;34m\u001b[0m\u001b[0;34m\u001b[0m\u001b[0m\n\u001b[1;32m    900\u001b[0m             \u001b[0;32melse\u001b[0m\u001b[0;34m:\u001b[0m\u001b[0;34m\u001b[0m\u001b[0;34m\u001b[0m\u001b[0m\n\u001b[0;32m--> 901\u001b[0;31m                 \u001b[0mself\u001b[0m\u001b[0;34m.\u001b[0m\u001b[0m_dispatch\u001b[0m\u001b[0;34m(\u001b[0m\u001b[0mtasks\u001b[0m\u001b[0;34m)\u001b[0m\u001b[0;34m\u001b[0m\u001b[0;34m\u001b[0m\u001b[0m\n\u001b[0m\u001b[1;32m    902\u001b[0m                 \u001b[0;32mreturn\u001b[0m \u001b[0;32mTrue\u001b[0m\u001b[0;34m\u001b[0m\u001b[0;34m\u001b[0m\u001b[0m\n\u001b[1;32m    903\u001b[0m \u001b[0;34m\u001b[0m\u001b[0m\n",
      "\u001b[0;32m/var/opt/miniconda3/envs/ncbr-covid/lib/python3.8/site-packages/joblib/parallel.py\u001b[0m in \u001b[0;36m_dispatch\u001b[0;34m(self, batch)\u001b[0m\n\u001b[1;32m    817\u001b[0m         \u001b[0;32mwith\u001b[0m \u001b[0mself\u001b[0m\u001b[0;34m.\u001b[0m\u001b[0m_lock\u001b[0m\u001b[0;34m:\u001b[0m\u001b[0;34m\u001b[0m\u001b[0;34m\u001b[0m\u001b[0m\n\u001b[1;32m    818\u001b[0m             \u001b[0mjob_idx\u001b[0m \u001b[0;34m=\u001b[0m \u001b[0mlen\u001b[0m\u001b[0;34m(\u001b[0m\u001b[0mself\u001b[0m\u001b[0;34m.\u001b[0m\u001b[0m_jobs\u001b[0m\u001b[0;34m)\u001b[0m\u001b[0;34m\u001b[0m\u001b[0;34m\u001b[0m\u001b[0m\n\u001b[0;32m--> 819\u001b[0;31m             \u001b[0mjob\u001b[0m \u001b[0;34m=\u001b[0m \u001b[0mself\u001b[0m\u001b[0;34m.\u001b[0m\u001b[0m_backend\u001b[0m\u001b[0;34m.\u001b[0m\u001b[0mapply_async\u001b[0m\u001b[0;34m(\u001b[0m\u001b[0mbatch\u001b[0m\u001b[0;34m,\u001b[0m \u001b[0mcallback\u001b[0m\u001b[0;34m=\u001b[0m\u001b[0mcb\u001b[0m\u001b[0;34m)\u001b[0m\u001b[0;34m\u001b[0m\u001b[0;34m\u001b[0m\u001b[0m\n\u001b[0m\u001b[1;32m    820\u001b[0m             \u001b[0;31m# A job can complete so quickly than its callback is\u001b[0m\u001b[0;34m\u001b[0m\u001b[0;34m\u001b[0m\u001b[0;34m\u001b[0m\u001b[0m\n\u001b[1;32m    821\u001b[0m             \u001b[0;31m# called before we get here, causing self._jobs to\u001b[0m\u001b[0;34m\u001b[0m\u001b[0;34m\u001b[0m\u001b[0;34m\u001b[0m\u001b[0m\n",
      "\u001b[0;32m/var/opt/miniconda3/envs/ncbr-covid/lib/python3.8/site-packages/joblib/_parallel_backends.py\u001b[0m in \u001b[0;36mapply_async\u001b[0;34m(self, func, callback)\u001b[0m\n\u001b[1;32m    206\u001b[0m     \u001b[0;32mdef\u001b[0m \u001b[0mapply_async\u001b[0m\u001b[0;34m(\u001b[0m\u001b[0mself\u001b[0m\u001b[0;34m,\u001b[0m \u001b[0mfunc\u001b[0m\u001b[0;34m,\u001b[0m \u001b[0mcallback\u001b[0m\u001b[0;34m=\u001b[0m\u001b[0;32mNone\u001b[0m\u001b[0;34m)\u001b[0m\u001b[0;34m:\u001b[0m\u001b[0;34m\u001b[0m\u001b[0;34m\u001b[0m\u001b[0m\n\u001b[1;32m    207\u001b[0m         \u001b[0;34m\"\"\"Schedule a func to be run\"\"\"\u001b[0m\u001b[0;34m\u001b[0m\u001b[0;34m\u001b[0m\u001b[0m\n\u001b[0;32m--> 208\u001b[0;31m         \u001b[0mresult\u001b[0m \u001b[0;34m=\u001b[0m \u001b[0mImmediateResult\u001b[0m\u001b[0;34m(\u001b[0m\u001b[0mfunc\u001b[0m\u001b[0;34m)\u001b[0m\u001b[0;34m\u001b[0m\u001b[0;34m\u001b[0m\u001b[0m\n\u001b[0m\u001b[1;32m    209\u001b[0m         \u001b[0;32mif\u001b[0m \u001b[0mcallback\u001b[0m\u001b[0;34m:\u001b[0m\u001b[0;34m\u001b[0m\u001b[0;34m\u001b[0m\u001b[0m\n\u001b[1;32m    210\u001b[0m             \u001b[0mcallback\u001b[0m\u001b[0;34m(\u001b[0m\u001b[0mresult\u001b[0m\u001b[0;34m)\u001b[0m\u001b[0;34m\u001b[0m\u001b[0;34m\u001b[0m\u001b[0m\n",
      "\u001b[0;32m/var/opt/miniconda3/envs/ncbr-covid/lib/python3.8/site-packages/joblib/_parallel_backends.py\u001b[0m in \u001b[0;36m__init__\u001b[0;34m(self, batch)\u001b[0m\n\u001b[1;32m    595\u001b[0m         \u001b[0;31m# Don't delay the application, to avoid keeping the input\u001b[0m\u001b[0;34m\u001b[0m\u001b[0;34m\u001b[0m\u001b[0;34m\u001b[0m\u001b[0m\n\u001b[1;32m    596\u001b[0m         \u001b[0;31m# arguments in memory\u001b[0m\u001b[0;34m\u001b[0m\u001b[0;34m\u001b[0m\u001b[0;34m\u001b[0m\u001b[0m\n\u001b[0;32m--> 597\u001b[0;31m         \u001b[0mself\u001b[0m\u001b[0;34m.\u001b[0m\u001b[0mresults\u001b[0m \u001b[0;34m=\u001b[0m \u001b[0mbatch\u001b[0m\u001b[0;34m(\u001b[0m\u001b[0;34m)\u001b[0m\u001b[0;34m\u001b[0m\u001b[0;34m\u001b[0m\u001b[0m\n\u001b[0m\u001b[1;32m    598\u001b[0m \u001b[0;34m\u001b[0m\u001b[0m\n\u001b[1;32m    599\u001b[0m     \u001b[0;32mdef\u001b[0m \u001b[0mget\u001b[0m\u001b[0;34m(\u001b[0m\u001b[0mself\u001b[0m\u001b[0;34m)\u001b[0m\u001b[0;34m:\u001b[0m\u001b[0;34m\u001b[0m\u001b[0;34m\u001b[0m\u001b[0m\n",
      "\u001b[0;32m/var/opt/miniconda3/envs/ncbr-covid/lib/python3.8/site-packages/joblib/parallel.py\u001b[0m in \u001b[0;36m__call__\u001b[0;34m(self)\u001b[0m\n\u001b[1;32m    286\u001b[0m         \u001b[0;31m# change the default number of processes to -1\u001b[0m\u001b[0;34m\u001b[0m\u001b[0;34m\u001b[0m\u001b[0;34m\u001b[0m\u001b[0m\n\u001b[1;32m    287\u001b[0m         \u001b[0;32mwith\u001b[0m \u001b[0mparallel_backend\u001b[0m\u001b[0;34m(\u001b[0m\u001b[0mself\u001b[0m\u001b[0;34m.\u001b[0m\u001b[0m_backend\u001b[0m\u001b[0;34m,\u001b[0m \u001b[0mn_jobs\u001b[0m\u001b[0;34m=\u001b[0m\u001b[0mself\u001b[0m\u001b[0;34m.\u001b[0m\u001b[0m_n_jobs\u001b[0m\u001b[0;34m)\u001b[0m\u001b[0;34m:\u001b[0m\u001b[0;34m\u001b[0m\u001b[0;34m\u001b[0m\u001b[0m\n\u001b[0;32m--> 288\u001b[0;31m             return [func(*args, **kwargs)\n\u001b[0m\u001b[1;32m    289\u001b[0m                     for func, args, kwargs in self.items]\n\u001b[1;32m    290\u001b[0m \u001b[0;34m\u001b[0m\u001b[0m\n",
      "\u001b[0;32m/var/opt/miniconda3/envs/ncbr-covid/lib/python3.8/site-packages/joblib/parallel.py\u001b[0m in \u001b[0;36m<listcomp>\u001b[0;34m(.0)\u001b[0m\n\u001b[1;32m    286\u001b[0m         \u001b[0;31m# change the default number of processes to -1\u001b[0m\u001b[0;34m\u001b[0m\u001b[0;34m\u001b[0m\u001b[0;34m\u001b[0m\u001b[0m\n\u001b[1;32m    287\u001b[0m         \u001b[0;32mwith\u001b[0m \u001b[0mparallel_backend\u001b[0m\u001b[0;34m(\u001b[0m\u001b[0mself\u001b[0m\u001b[0;34m.\u001b[0m\u001b[0m_backend\u001b[0m\u001b[0;34m,\u001b[0m \u001b[0mn_jobs\u001b[0m\u001b[0;34m=\u001b[0m\u001b[0mself\u001b[0m\u001b[0;34m.\u001b[0m\u001b[0m_n_jobs\u001b[0m\u001b[0;34m)\u001b[0m\u001b[0;34m:\u001b[0m\u001b[0;34m\u001b[0m\u001b[0;34m\u001b[0m\u001b[0m\n\u001b[0;32m--> 288\u001b[0;31m             return [func(*args, **kwargs)\n\u001b[0m\u001b[1;32m    289\u001b[0m                     for func, args, kwargs in self.items]\n\u001b[1;32m    290\u001b[0m \u001b[0;34m\u001b[0m\u001b[0m\n",
      "\u001b[0;32m/var/opt/miniconda3/envs/ncbr-covid/lib/python3.8/site-packages/sklearn/utils/parallel.py\u001b[0m in \u001b[0;36m__call__\u001b[0;34m(self, *args, **kwargs)\u001b[0m\n\u001b[1;32m    121\u001b[0m             \u001b[0mconfig\u001b[0m \u001b[0;34m=\u001b[0m \u001b[0;34m{\u001b[0m\u001b[0;34m}\u001b[0m\u001b[0;34m\u001b[0m\u001b[0;34m\u001b[0m\u001b[0m\n\u001b[1;32m    122\u001b[0m         \u001b[0;32mwith\u001b[0m \u001b[0mconfig_context\u001b[0m\u001b[0;34m(\u001b[0m\u001b[0;34m**\u001b[0m\u001b[0mconfig\u001b[0m\u001b[0;34m)\u001b[0m\u001b[0;34m:\u001b[0m\u001b[0;34m\u001b[0m\u001b[0;34m\u001b[0m\u001b[0m\n\u001b[0;32m--> 123\u001b[0;31m             \u001b[0;32mreturn\u001b[0m \u001b[0mself\u001b[0m\u001b[0;34m.\u001b[0m\u001b[0mfunction\u001b[0m\u001b[0;34m(\u001b[0m\u001b[0;34m*\u001b[0m\u001b[0margs\u001b[0m\u001b[0;34m,\u001b[0m \u001b[0;34m**\u001b[0m\u001b[0mkwargs\u001b[0m\u001b[0;34m)\u001b[0m\u001b[0;34m\u001b[0m\u001b[0;34m\u001b[0m\u001b[0m\n\u001b[0m",
      "\u001b[0;32m/var/opt/miniconda3/envs/ncbr-covid/lib/python3.8/site-packages/sklearn/ensemble/_forest.py\u001b[0m in \u001b[0;36m_parallel_build_trees\u001b[0;34m(tree, bootstrap, X, y, sample_weight, tree_idx, n_trees, verbose, class_weight, n_samples_bootstrap)\u001b[0m\n\u001b[1;32m    182\u001b[0m             \u001b[0mcurr_sample_weight\u001b[0m \u001b[0;34m*=\u001b[0m \u001b[0mcompute_sample_weight\u001b[0m\u001b[0;34m(\u001b[0m\u001b[0;34m\"balanced\"\u001b[0m\u001b[0;34m,\u001b[0m \u001b[0my\u001b[0m\u001b[0;34m,\u001b[0m \u001b[0mindices\u001b[0m\u001b[0;34m=\u001b[0m\u001b[0mindices\u001b[0m\u001b[0;34m)\u001b[0m\u001b[0;34m\u001b[0m\u001b[0;34m\u001b[0m\u001b[0m\n\u001b[1;32m    183\u001b[0m \u001b[0;34m\u001b[0m\u001b[0m\n\u001b[0;32m--> 184\u001b[0;31m         \u001b[0mtree\u001b[0m\u001b[0;34m.\u001b[0m\u001b[0mfit\u001b[0m\u001b[0;34m(\u001b[0m\u001b[0mX\u001b[0m\u001b[0;34m,\u001b[0m \u001b[0my\u001b[0m\u001b[0;34m,\u001b[0m \u001b[0msample_weight\u001b[0m\u001b[0;34m=\u001b[0m\u001b[0mcurr_sample_weight\u001b[0m\u001b[0;34m,\u001b[0m \u001b[0mcheck_input\u001b[0m\u001b[0;34m=\u001b[0m\u001b[0;32mFalse\u001b[0m\u001b[0;34m)\u001b[0m\u001b[0;34m\u001b[0m\u001b[0;34m\u001b[0m\u001b[0m\n\u001b[0m\u001b[1;32m    185\u001b[0m     \u001b[0;32melse\u001b[0m\u001b[0;34m:\u001b[0m\u001b[0;34m\u001b[0m\u001b[0;34m\u001b[0m\u001b[0m\n\u001b[1;32m    186\u001b[0m         \u001b[0mtree\u001b[0m\u001b[0;34m.\u001b[0m\u001b[0mfit\u001b[0m\u001b[0;34m(\u001b[0m\u001b[0mX\u001b[0m\u001b[0;34m,\u001b[0m \u001b[0my\u001b[0m\u001b[0;34m,\u001b[0m \u001b[0msample_weight\u001b[0m\u001b[0;34m=\u001b[0m\u001b[0msample_weight\u001b[0m\u001b[0;34m,\u001b[0m \u001b[0mcheck_input\u001b[0m\u001b[0;34m=\u001b[0m\u001b[0;32mFalse\u001b[0m\u001b[0;34m)\u001b[0m\u001b[0;34m\u001b[0m\u001b[0;34m\u001b[0m\u001b[0m\n",
      "\u001b[0;32m/var/opt/miniconda3/envs/ncbr-covid/lib/python3.8/site-packages/sklearn/tree/_classes.py\u001b[0m in \u001b[0;36mfit\u001b[0;34m(self, X, y, sample_weight, check_input)\u001b[0m\n\u001b[1;32m    887\u001b[0m         \"\"\"\n\u001b[1;32m    888\u001b[0m \u001b[0;34m\u001b[0m\u001b[0m\n\u001b[0;32m--> 889\u001b[0;31m         super().fit(\n\u001b[0m\u001b[1;32m    890\u001b[0m             \u001b[0mX\u001b[0m\u001b[0;34m,\u001b[0m\u001b[0;34m\u001b[0m\u001b[0;34m\u001b[0m\u001b[0m\n\u001b[1;32m    891\u001b[0m             \u001b[0my\u001b[0m\u001b[0;34m,\u001b[0m\u001b[0;34m\u001b[0m\u001b[0;34m\u001b[0m\u001b[0m\n",
      "\u001b[0;32m/var/opt/miniconda3/envs/ncbr-covid/lib/python3.8/site-packages/sklearn/tree/_classes.py\u001b[0m in \u001b[0;36mfit\u001b[0;34m(self, X, y, sample_weight, check_input)\u001b[0m\n\u001b[1;32m    377\u001b[0m             )\n\u001b[1;32m    378\u001b[0m \u001b[0;34m\u001b[0m\u001b[0m\n\u001b[0;32m--> 379\u001b[0;31m         \u001b[0mbuilder\u001b[0m\u001b[0;34m.\u001b[0m\u001b[0mbuild\u001b[0m\u001b[0;34m(\u001b[0m\u001b[0mself\u001b[0m\u001b[0;34m.\u001b[0m\u001b[0mtree_\u001b[0m\u001b[0;34m,\u001b[0m \u001b[0mX\u001b[0m\u001b[0;34m,\u001b[0m \u001b[0my\u001b[0m\u001b[0;34m,\u001b[0m \u001b[0msample_weight\u001b[0m\u001b[0;34m)\u001b[0m\u001b[0;34m\u001b[0m\u001b[0;34m\u001b[0m\u001b[0m\n\u001b[0m\u001b[1;32m    380\u001b[0m \u001b[0;34m\u001b[0m\u001b[0m\n\u001b[1;32m    381\u001b[0m         \u001b[0;32mif\u001b[0m \u001b[0mself\u001b[0m\u001b[0;34m.\u001b[0m\u001b[0mn_outputs_\u001b[0m \u001b[0;34m==\u001b[0m \u001b[0;36m1\u001b[0m \u001b[0;32mand\u001b[0m \u001b[0mis_classifier\u001b[0m\u001b[0;34m(\u001b[0m\u001b[0mself\u001b[0m\u001b[0;34m)\u001b[0m\u001b[0;34m:\u001b[0m\u001b[0;34m\u001b[0m\u001b[0;34m\u001b[0m\u001b[0m\n",
      "\u001b[0;31mKeyboardInterrupt\u001b[0m: "
     ]
    }
   ],
   "source": [
    "column = \"icu\"\n",
    "proper_res, shuffled_res, pval_res = check_significance(get_rf(n_estimators=200, max_features=None, criterion='gini', max_depth=2), get_metric=test_rf_auc, column=column)\n",
    "samples = len(pivoted.loc[:, column].dropna().values)\n",
    "p_val = round(pval_res, 4)\n",
    "if p_val<0.05:\n",
    "    p_val = \"<0.05\"\n",
    "    \n",
    "plt.figure(figsize=(8, 5))\n",
    "sns.violinplot(data=pd.DataFrame({\"Classifier\": proper_res, \"Baseline\": shuffled_res}), cut=0)\n",
    "plt.suptitle(f\"Will the patient die?\", fontweight='bold', fontsize='x-large')\n",
    "plt.title(f\"Permutation test p-val: {p_val}, {samples} samples\")\n",
    "plt.ylabel(\"AUC\");\n",
    "plt.xticks([])\n",
    "plt.ylim([0, 1]);"
   ]
  },
  {
   "cell_type": "markdown",
   "id": "3621d6e5-8a89-446c-bcec-a9d79f7e73c7",
   "metadata": {},
   "source": [
    "## Test on specific patients"
   ]
  },
  {
   "cell_type": "code",
   "execution_count": 57,
   "id": "e729644a-775c-4222-aa3e-4ecf8e8f26db",
   "metadata": {},
   "outputs": [],
   "source": [
    "train_patients, test_patients = train_test_split(pivoted['patient_id'].unique())\n",
    "X_train, y_train, X_test, y_test = get_random_split(\"icu\", train_patients, test_patients)\n",
    "model = get_rf(n_estimators=200, max_features=None, criterion='gini', max_depth=2)()\n",
    "model.fit(X_train, y_train);"
   ]
  },
  {
   "cell_type": "code",
   "execution_count": 65,
   "id": "7ed2163f-0b4f-4cad-985a-7083c2f21f5c",
   "metadata": {},
   "outputs": [
    {
     "data": {
      "text/html": [
       "<div>\n",
       "<style scoped>\n",
       "    .dataframe tbody tr th:only-of-type {\n",
       "        vertical-align: middle;\n",
       "    }\n",
       "\n",
       "    .dataframe tbody tr th {\n",
       "        vertical-align: top;\n",
       "    }\n",
       "\n",
       "    .dataframe thead th {\n",
       "        text-align: right;\n",
       "    }\n",
       "</style>\n",
       "<table border=\"1\" class=\"dataframe\">\n",
       "  <thead>\n",
       "    <tr style=\"text-align: right;\">\n",
       "      <th></th>\n",
       "      <th>run_x</th>\n",
       "      <th>sample_date</th>\n",
       "      <th>patient_id</th>\n",
       "      <th>samples</th>\n",
       "      <th>0.0</th>\n",
       "      <th>1.0</th>\n",
       "      <th>2.0</th>\n",
       "      <th>3.0</th>\n",
       "      <th>4.0</th>\n",
       "      <th>5.0</th>\n",
       "      <th>...</th>\n",
       "      <th>weight</th>\n",
       "      <th>bmi</th>\n",
       "      <th>obesity_calculated</th>\n",
       "      <th>sex</th>\n",
       "      <th>age</th>\n",
       "      <th>admission_date</th>\n",
       "      <th>final_date</th>\n",
       "      <th>death</th>\n",
       "      <th>covid_test_date</th>\n",
       "      <th>icu</th>\n",
       "    </tr>\n",
       "  </thead>\n",
       "  <tbody>\n",
       "    <tr>\n",
       "      <th>191</th>\n",
       "      <td>Run4</td>\n",
       "      <td>2020-11-27</td>\n",
       "      <td>94</td>\n",
       "      <td>94_27112020_S35_aligned</td>\n",
       "      <td>0.0</td>\n",
       "      <td>0.0</td>\n",
       "      <td>0.0</td>\n",
       "      <td>1409.0</td>\n",
       "      <td>0.0</td>\n",
       "      <td>0.0</td>\n",
       "      <td>...</td>\n",
       "      <td>42.0</td>\n",
       "      <td>15.6</td>\n",
       "      <td>0</td>\n",
       "      <td>2.0</td>\n",
       "      <td>22.0</td>\n",
       "      <td>2020-11-13</td>\n",
       "      <td>2020-12-14</td>\n",
       "      <td>2.0</td>\n",
       "      <td>2020-11-12</td>\n",
       "      <td>0.0</td>\n",
       "    </tr>\n",
       "    <tr>\n",
       "      <th>192</th>\n",
       "      <td>Run4</td>\n",
       "      <td>2020-11-29</td>\n",
       "      <td>94</td>\n",
       "      <td>94_29112020_S36_aligned</td>\n",
       "      <td>0.0</td>\n",
       "      <td>0.0</td>\n",
       "      <td>0.0</td>\n",
       "      <td>2648.0</td>\n",
       "      <td>1.0</td>\n",
       "      <td>0.0</td>\n",
       "      <td>...</td>\n",
       "      <td>42.0</td>\n",
       "      <td>15.6</td>\n",
       "      <td>0</td>\n",
       "      <td>2.0</td>\n",
       "      <td>22.0</td>\n",
       "      <td>2020-11-13</td>\n",
       "      <td>2020-12-14</td>\n",
       "      <td>2.0</td>\n",
       "      <td>2020-11-12</td>\n",
       "      <td>0.0</td>\n",
       "    </tr>\n",
       "    <tr>\n",
       "      <th>193</th>\n",
       "      <td>Run4</td>\n",
       "      <td>2020-11-30</td>\n",
       "      <td>94</td>\n",
       "      <td>94_30112020_S37_aligned</td>\n",
       "      <td>0.0</td>\n",
       "      <td>0.0</td>\n",
       "      <td>0.0</td>\n",
       "      <td>1721.0</td>\n",
       "      <td>0.0</td>\n",
       "      <td>0.0</td>\n",
       "      <td>...</td>\n",
       "      <td>42.0</td>\n",
       "      <td>15.6</td>\n",
       "      <td>0</td>\n",
       "      <td>2.0</td>\n",
       "      <td>22.0</td>\n",
       "      <td>2020-11-13</td>\n",
       "      <td>2020-12-14</td>\n",
       "      <td>2.0</td>\n",
       "      <td>2020-11-12</td>\n",
       "      <td>0.0</td>\n",
       "    </tr>\n",
       "    <tr>\n",
       "      <th>194</th>\n",
       "      <td>Run4</td>\n",
       "      <td>2020-12-01</td>\n",
       "      <td>94</td>\n",
       "      <td>94_01122020_S38_aligned</td>\n",
       "      <td>0.0</td>\n",
       "      <td>0.0</td>\n",
       "      <td>0.0</td>\n",
       "      <td>347.0</td>\n",
       "      <td>0.0</td>\n",
       "      <td>0.0</td>\n",
       "      <td>...</td>\n",
       "      <td>42.0</td>\n",
       "      <td>15.6</td>\n",
       "      <td>0</td>\n",
       "      <td>2.0</td>\n",
       "      <td>22.0</td>\n",
       "      <td>2020-11-13</td>\n",
       "      <td>2020-12-14</td>\n",
       "      <td>2.0</td>\n",
       "      <td>2020-11-12</td>\n",
       "      <td>0.0</td>\n",
       "    </tr>\n",
       "    <tr>\n",
       "      <th>196</th>\n",
       "      <td>Run4</td>\n",
       "      <td>2020-12-05</td>\n",
       "      <td>94</td>\n",
       "      <td>94_05122020_S39_aligned</td>\n",
       "      <td>0.0</td>\n",
       "      <td>0.0</td>\n",
       "      <td>0.0</td>\n",
       "      <td>188.0</td>\n",
       "      <td>0.0</td>\n",
       "      <td>0.0</td>\n",
       "      <td>...</td>\n",
       "      <td>42.0</td>\n",
       "      <td>15.6</td>\n",
       "      <td>0</td>\n",
       "      <td>2.0</td>\n",
       "      <td>22.0</td>\n",
       "      <td>2020-11-13</td>\n",
       "      <td>2020-12-14</td>\n",
       "      <td>2.0</td>\n",
       "      <td>2020-11-12</td>\n",
       "      <td>0.0</td>\n",
       "    </tr>\n",
       "    <tr>\n",
       "      <th>198</th>\n",
       "      <td>Run4</td>\n",
       "      <td>2020-12-08</td>\n",
       "      <td>94</td>\n",
       "      <td>94_08122020_S40_aligned</td>\n",
       "      <td>0.0</td>\n",
       "      <td>0.0</td>\n",
       "      <td>60.0</td>\n",
       "      <td>142.0</td>\n",
       "      <td>0.0</td>\n",
       "      <td>0.0</td>\n",
       "      <td>...</td>\n",
       "      <td>42.0</td>\n",
       "      <td>15.6</td>\n",
       "      <td>0</td>\n",
       "      <td>2.0</td>\n",
       "      <td>22.0</td>\n",
       "      <td>2020-11-13</td>\n",
       "      <td>2020-12-14</td>\n",
       "      <td>2.0</td>\n",
       "      <td>2020-11-12</td>\n",
       "      <td>0.0</td>\n",
       "    </tr>\n",
       "  </tbody>\n",
       "</table>\n",
       "<p>6 rows × 2705 columns</p>\n",
       "</div>"
      ],
      "text/plain": [
       "    run_x sample_date  patient_id                  samples  0.0  1.0   2.0  \\\n",
       "191  Run4  2020-11-27          94  94_27112020_S35_aligned  0.0  0.0   0.0   \n",
       "192  Run4  2020-11-29          94  94_29112020_S36_aligned  0.0  0.0   0.0   \n",
       "193  Run4  2020-11-30          94  94_30112020_S37_aligned  0.0  0.0   0.0   \n",
       "194  Run4  2020-12-01          94  94_01122020_S38_aligned  0.0  0.0   0.0   \n",
       "196  Run4  2020-12-05          94  94_05122020_S39_aligned  0.0  0.0   0.0   \n",
       "198  Run4  2020-12-08          94  94_08122020_S40_aligned  0.0  0.0  60.0   \n",
       "\n",
       "        3.0  4.0  5.0  ...  weight   bmi  obesity_calculated  sex   age  \\\n",
       "191  1409.0  0.0  0.0  ...    42.0  15.6                   0  2.0  22.0   \n",
       "192  2648.0  1.0  0.0  ...    42.0  15.6                   0  2.0  22.0   \n",
       "193  1721.0  0.0  0.0  ...    42.0  15.6                   0  2.0  22.0   \n",
       "194   347.0  0.0  0.0  ...    42.0  15.6                   0  2.0  22.0   \n",
       "196   188.0  0.0  0.0  ...    42.0  15.6                   0  2.0  22.0   \n",
       "198   142.0  0.0  0.0  ...    42.0  15.6                   0  2.0  22.0   \n",
       "\n",
       "     admission_date  final_date  death  covid_test_date  icu  \n",
       "191      2020-11-13  2020-12-14    2.0       2020-11-12  0.0  \n",
       "192      2020-11-13  2020-12-14    2.0       2020-11-12  0.0  \n",
       "193      2020-11-13  2020-12-14    2.0       2020-11-12  0.0  \n",
       "194      2020-11-13  2020-12-14    2.0       2020-11-12  0.0  \n",
       "196      2020-11-13  2020-12-14    2.0       2020-11-12  0.0  \n",
       "198      2020-11-13  2020-12-14    2.0       2020-11-12  0.0  \n",
       "\n",
       "[6 rows x 2705 columns]"
      ]
     },
     "execution_count": 65,
     "metadata": {},
     "output_type": "execute_result"
    }
   ],
   "source": [
    "patient"
   ]
  },
  {
   "cell_type": "code",
   "execution_count": 85,
   "id": "54a6590e-6851-4118-a480-dee62018aae1",
   "metadata": {},
   "outputs": [
    {
     "name": "stdout",
     "output_type": "stream",
     "text": [
      "0.0 [1 0 1 0 0]\n",
      "0.0 [1 0]\n",
      "0.0 [1 1 1 1]\n",
      "0.0 [1 1 1 1 1]\n",
      "0.0 [0 0 0 1]\n",
      "0.0 [1 1 1 1]\n",
      "0.0 [0 0 0 1 0]\n",
      "1.0 [1 1]\n",
      "0.0 [1 1 1 1 1 1]\n",
      "0.0 [0 0 1 0 0 0]\n",
      "0.0 [1 1 1 1 1]\n",
      "0.0 [1 1 1 1 1]\n",
      "1.0 [1 1 1 1]\n",
      "1.0 [1 1 1 1 1 1]\n",
      "0.0 [1 1]\n",
      "0.0 [0 0 0 1 0 0]\n",
      "0.0 [1 1 1 0 1 1]\n",
      "0.0 [1 1 1 1 1 1]\n",
      "0.0 [0 1]\n",
      "0.0 [1 1 1 1]\n",
      "0.0 [1 1 1 1 0 1]\n",
      "Accuracy: 57%\n",
      "Precision: 25%\n",
      "Recall: 100%\n",
      "ROC: 0.75\n"
     ]
    }
   ],
   "source": [
    "from sklearn.metrics import precision_score, recall_score, roc_auc_score, f1_score\n",
    "\n",
    "predictions = []\n",
    "y_true = []\n",
    "y_proba = []\n",
    "\n",
    "for pid in test_patients:\n",
    "    patient = pivoted.loc[pivoted[\"patient_id\"]==pid]\n",
    "    y_expected = patient['icu'].iloc[0]\n",
    "    X_patient = patient.values[:, 4:-21]\n",
    "    y_pred = model.predict_proba(X_patient)[:, 1]\n",
    "    res = (y_pred>0.3).astype(int)\n",
    "\n",
    "    y_proba.append(res.mean())\n",
    "    predictions.append(res.min())\n",
    "    y_true.append(y_expected)\n",
    "    print(y_expected, res)\n",
    "    \n",
    "print(f\"Accuracy: {accuracy_score(y_true, predictions)*100:.0f}%\")\n",
    "print(f\"Precision: {precision_score(y_true, predictions)*100:.0f}%\")\n",
    "print(f\"Recall: {recall_score(y_true, predictions)*100:.0f}%\")\n",
    "print(f\"ROC: {roc_auc_score(y_true, y_proba)}\")"
   ]
  },
  {
   "cell_type": "code",
   "execution_count": 78,
   "id": "ec98d55c-4f97-4360-aae4-f13f3a0199df",
   "metadata": {},
   "outputs": [],
   "source": [
    "y_pred = model.predict_proba(X_test)[:, 1]\n",
    "fpr, tpr, _ = roc_curve(y_test, y_pred)"
   ]
  },
  {
   "cell_type": "code",
   "execution_count": 84,
   "id": "614acf7d-1c9e-4cf9-ab20-bea7ad51f116",
   "metadata": {},
   "outputs": [
    {
     "data": {
      "text/plain": [
       "[<matplotlib.lines.Line2D at 0x7f1d3b590220>]"
      ]
     },
     "execution_count": 84,
     "metadata": {},
     "output_type": "execute_result"
    },
    {
     "data": {
      "image/png": "[encoded data removed]",
      "text/plain": [
       "<Figure size 432x288 with 1 Axes>"
      ]
     },
     "metadata": {
      "needs_background": "light"
     },
     "output_type": "display_data"
    }
   ],
   "source": [
    "plt.plot(fpr, tpr)"
   ]
  },
  {
   "cell_type": "code",
   "execution_count": 273,
   "id": "6aee1fe4-01a6-463b-b8eb-61fde26d2468",
   "metadata": {},
   "outputs": [
    {
     "data": {
      "text/plain": [
       "array([1., 0., 1., 1., 0.])"
      ]
     },
     "execution_count": 273,
     "metadata": {},
     "output_type": "execute_result"
    }
   ],
   "source": [
    "model.predict(X_patient)"
   ]
  },
  {
   "cell_type": "code",
   "execution_count": null,
   "id": "4007cd2b-6a57-43f6-8996-74ed52a558d4",
   "metadata": {},
   "outputs": [],
   "source": []
  }
 ],
 "metadata": {
  "kernelspec": {
   "display_name": "ncbr_covid",
   "language": "python",
   "name": "ncbr_covid"
  },
  "language_info": {
   "codemirror_mode": {
    "name": "ipython",
    "version": 3
   },
   "file_extension": ".py",
   "mimetype": "text/x-python",
   "name": "python",
   "nbconvert_exporter": "python",
   "pygments_lexer": "ipython3",
   "version": "3.8.8"
  }
 },
 "nbformat": 4,
 "nbformat_minor": 5
}
